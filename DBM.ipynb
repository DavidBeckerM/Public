{
  "nbformat": 4,
  "nbformat_minor": 0,
  "metadata": {
    "colab": {
      "provenance": [],
      "authorship_tag": "ABX9TyNJOrQIyU2SQy7V2tmkk+3d",
      "include_colab_link": true
    },
    "kernelspec": {
      "name": "python3",
      "display_name": "Python 3"
    },
    "language_info": {
      "name": "python"
    },
    "widgets": {
      "application/vnd.jupyter.widget-state+json": {
        "7208a65f50b5491887250d204f2c1a6b": {
          "model_module": "@jupyter-widgets/controls",
          "model_name": "DropdownModel",
          "model_module_version": "1.5.0",
          "state": {
            "_dom_classes": [],
            "_model_module": "@jupyter-widgets/controls",
            "_model_module_version": "1.5.0",
            "_model_name": "DropdownModel",
            "_options_labels": [
              "Desde Monto Neto",
              "Desde Monto Bruto",
              "Desde Monto IVA"
            ],
            "_view_count": null,
            "_view_module": "@jupyter-widgets/controls",
            "_view_module_version": "1.5.0",
            "_view_name": "DropdownView",
            "description": "Cálculo:",
            "description_tooltip": null,
            "disabled": false,
            "index": 0,
            "layout": "IPY_MODEL_946c193e64bf49ed8300c939fdbb8ba2",
            "style": "IPY_MODEL_625c6d6612594676b91eff1a39e1b0d8"
          }
        },
        "946c193e64bf49ed8300c939fdbb8ba2": {
          "model_module": "@jupyter-widgets/base",
          "model_name": "LayoutModel",
          "model_module_version": "1.2.0",
          "state": {
            "_model_module": "@jupyter-widgets/base",
            "_model_module_version": "1.2.0",
            "_model_name": "LayoutModel",
            "_view_count": null,
            "_view_module": "@jupyter-widgets/base",
            "_view_module_version": "1.2.0",
            "_view_name": "LayoutView",
            "align_content": null,
            "align_items": null,
            "align_self": null,
            "border": null,
            "bottom": null,
            "display": null,
            "flex": null,
            "flex_flow": null,
            "grid_area": null,
            "grid_auto_columns": null,
            "grid_auto_flow": null,
            "grid_auto_rows": null,
            "grid_column": null,
            "grid_gap": null,
            "grid_row": null,
            "grid_template_areas": null,
            "grid_template_columns": null,
            "grid_template_rows": null,
            "height": null,
            "justify_content": null,
            "justify_items": null,
            "left": null,
            "margin": null,
            "max_height": null,
            "max_width": null,
            "min_height": null,
            "min_width": null,
            "object_fit": null,
            "object_position": null,
            "order": null,
            "overflow": null,
            "overflow_x": null,
            "overflow_y": null,
            "padding": null,
            "right": null,
            "top": null,
            "visibility": null,
            "width": null
          }
        },
        "625c6d6612594676b91eff1a39e1b0d8": {
          "model_module": "@jupyter-widgets/controls",
          "model_name": "DescriptionStyleModel",
          "model_module_version": "1.5.0",
          "state": {
            "_model_module": "@jupyter-widgets/controls",
            "_model_module_version": "1.5.0",
            "_model_name": "DescriptionStyleModel",
            "_view_count": null,
            "_view_module": "@jupyter-widgets/base",
            "_view_module_version": "1.2.0",
            "_view_name": "StyleView",
            "description_width": "initial"
          }
        },
        "dbbe3eb4ec3846d0a4799cb9503b1397": {
          "model_module": "@jupyter-widgets/controls",
          "model_name": "FloatTextModel",
          "model_module_version": "1.5.0",
          "state": {
            "_dom_classes": [],
            "_model_module": "@jupyter-widgets/controls",
            "_model_module_version": "1.5.0",
            "_model_name": "FloatTextModel",
            "_view_count": null,
            "_view_module": "@jupyter-widgets/controls",
            "_view_module_version": "1.5.0",
            "_view_name": "FloatTextView",
            "continuous_update": false,
            "description": "Monto:",
            "description_tooltip": null,
            "disabled": false,
            "layout": "IPY_MODEL_4bd0c9d7e69747e88591fa8b10d1a794",
            "step": null,
            "style": "IPY_MODEL_6a9b739d33ec40408c79967053c5eb02",
            "value": 0
          }
        },
        "4bd0c9d7e69747e88591fa8b10d1a794": {
          "model_module": "@jupyter-widgets/base",
          "model_name": "LayoutModel",
          "model_module_version": "1.2.0",
          "state": {
            "_model_module": "@jupyter-widgets/base",
            "_model_module_version": "1.2.0",
            "_model_name": "LayoutModel",
            "_view_count": null,
            "_view_module": "@jupyter-widgets/base",
            "_view_module_version": "1.2.0",
            "_view_name": "LayoutView",
            "align_content": null,
            "align_items": null,
            "align_self": null,
            "border": null,
            "bottom": null,
            "display": null,
            "flex": null,
            "flex_flow": null,
            "grid_area": null,
            "grid_auto_columns": null,
            "grid_auto_flow": null,
            "grid_auto_rows": null,
            "grid_column": null,
            "grid_gap": null,
            "grid_row": null,
            "grid_template_areas": null,
            "grid_template_columns": null,
            "grid_template_rows": null,
            "height": null,
            "justify_content": null,
            "justify_items": null,
            "left": null,
            "margin": null,
            "max_height": null,
            "max_width": null,
            "min_height": null,
            "min_width": null,
            "object_fit": null,
            "object_position": null,
            "order": null,
            "overflow": null,
            "overflow_x": null,
            "overflow_y": null,
            "padding": null,
            "right": null,
            "top": null,
            "visibility": null,
            "width": null
          }
        },
        "6a9b739d33ec40408c79967053c5eb02": {
          "model_module": "@jupyter-widgets/controls",
          "model_name": "DescriptionStyleModel",
          "model_module_version": "1.5.0",
          "state": {
            "_model_module": "@jupyter-widgets/controls",
            "_model_module_version": "1.5.0",
            "_model_name": "DescriptionStyleModel",
            "_view_count": null,
            "_view_module": "@jupyter-widgets/base",
            "_view_module_version": "1.2.0",
            "_view_name": "StyleView",
            "description_width": "initial"
          }
        },
        "2e582676ad4a4ab49f981226188301eb": {
          "model_module": "@jupyter-widgets/controls",
          "model_name": "ButtonModel",
          "model_module_version": "1.5.0",
          "state": {
            "_dom_classes": [],
            "_model_module": "@jupyter-widgets/controls",
            "_model_module_version": "1.5.0",
            "_model_name": "ButtonModel",
            "_view_count": null,
            "_view_module": "@jupyter-widgets/controls",
            "_view_module_version": "1.5.0",
            "_view_name": "ButtonView",
            "button_style": "success",
            "description": "Calcular IVA",
            "disabled": false,
            "icon": "",
            "layout": "IPY_MODEL_eb733a385fe340e293884ade90b74cc8",
            "style": "IPY_MODEL_9beef0823d714b608dfdee47376cd818",
            "tooltip": ""
          }
        },
        "eb733a385fe340e293884ade90b74cc8": {
          "model_module": "@jupyter-widgets/base",
          "model_name": "LayoutModel",
          "model_module_version": "1.2.0",
          "state": {
            "_model_module": "@jupyter-widgets/base",
            "_model_module_version": "1.2.0",
            "_model_name": "LayoutModel",
            "_view_count": null,
            "_view_module": "@jupyter-widgets/base",
            "_view_module_version": "1.2.0",
            "_view_name": "LayoutView",
            "align_content": null,
            "align_items": null,
            "align_self": null,
            "border": null,
            "bottom": null,
            "display": null,
            "flex": null,
            "flex_flow": null,
            "grid_area": null,
            "grid_auto_columns": null,
            "grid_auto_flow": null,
            "grid_auto_rows": null,
            "grid_column": null,
            "grid_gap": null,
            "grid_row": null,
            "grid_template_areas": null,
            "grid_template_columns": null,
            "grid_template_rows": null,
            "height": null,
            "justify_content": null,
            "justify_items": null,
            "left": null,
            "margin": null,
            "max_height": null,
            "max_width": null,
            "min_height": null,
            "min_width": null,
            "object_fit": null,
            "object_position": null,
            "order": null,
            "overflow": null,
            "overflow_x": null,
            "overflow_y": null,
            "padding": null,
            "right": null,
            "top": null,
            "visibility": null,
            "width": null
          }
        },
        "9beef0823d714b608dfdee47376cd818": {
          "model_module": "@jupyter-widgets/controls",
          "model_name": "ButtonStyleModel",
          "model_module_version": "1.5.0",
          "state": {
            "_model_module": "@jupyter-widgets/controls",
            "_model_module_version": "1.5.0",
            "_model_name": "ButtonStyleModel",
            "_view_count": null,
            "_view_module": "@jupyter-widgets/base",
            "_view_module_version": "1.2.0",
            "_view_name": "StyleView",
            "button_color": null,
            "font_weight": ""
          }
        },
        "4081eadd220d4d4d96eab0940be1c155": {
          "model_module": "@jupyter-widgets/output",
          "model_name": "OutputModel",
          "model_module_version": "1.0.0",
          "state": {
            "_dom_classes": [],
            "_model_module": "@jupyter-widgets/output",
            "_model_module_version": "1.0.0",
            "_model_name": "OutputModel",
            "_view_count": null,
            "_view_module": "@jupyter-widgets/output",
            "_view_module_version": "1.0.0",
            "_view_name": "OutputView",
            "layout": "IPY_MODEL_5443eb3dc699433093d0b1404830aeab",
            "msg_id": "",
            "outputs": []
          }
        },
        "5443eb3dc699433093d0b1404830aeab": {
          "model_module": "@jupyter-widgets/base",
          "model_name": "LayoutModel",
          "model_module_version": "1.2.0",
          "state": {
            "_model_module": "@jupyter-widgets/base",
            "_model_module_version": "1.2.0",
            "_model_name": "LayoutModel",
            "_view_count": null,
            "_view_module": "@jupyter-widgets/base",
            "_view_module_version": "1.2.0",
            "_view_name": "LayoutView",
            "align_content": null,
            "align_items": null,
            "align_self": null,
            "border": null,
            "bottom": null,
            "display": null,
            "flex": null,
            "flex_flow": null,
            "grid_area": null,
            "grid_auto_columns": null,
            "grid_auto_flow": null,
            "grid_auto_rows": null,
            "grid_column": null,
            "grid_gap": null,
            "grid_row": null,
            "grid_template_areas": null,
            "grid_template_columns": null,
            "grid_template_rows": null,
            "height": null,
            "justify_content": null,
            "justify_items": null,
            "left": null,
            "margin": null,
            "max_height": null,
            "max_width": null,
            "min_height": null,
            "min_width": null,
            "object_fit": null,
            "object_position": null,
            "order": null,
            "overflow": null,
            "overflow_x": null,
            "overflow_y": null,
            "padding": null,
            "right": null,
            "top": null,
            "visibility": null,
            "width": null
          }
        }
      }
    }
  },
  "cells": [
    {
      "cell_type": "markdown",
      "metadata": {
        "id": "view-in-github",
        "colab_type": "text"
      },
      "source": [
        "<a href=\"https://colab.research.google.com/github/DavidBeckerM/Public/blob/main/DBM.ipynb\" target=\"_parent\"><img src=\"https://colab.research.google.com/assets/colab-badge.svg\" alt=\"Open In Colab\"/></a>"
      ]
    },
    {
      "cell_type": "code",
      "source": [
        "# @title Simulador de IVA\n",
        "# Ejecuta esta celda primero para instalar e importar dependencias\n",
        "!pip install ipywidgets --quiet\n",
        "\n",
        "import ipywidgets as widgets\n",
        "from IPython.display import display, clear_output\n",
        "\n",
        "# Funciones de cálculo\n",
        "def calcular_desde_neto(neto):\n",
        "    iva = neto * 0.19\n",
        "    total = neto + iva\n",
        "    return iva, total\n",
        "\n",
        "def calcular_desde_bruto(bruto):\n",
        "    neto = bruto / 1.19\n",
        "    iva = bruto - neto\n",
        "    return neto, iva\n",
        "\n",
        "def calcular_desde_iva(iva):\n",
        "    neto = iva / 0.19\n",
        "    total = neto + iva\n",
        "    return neto, total\n",
        "\n",
        "# Widgets de entrada\n",
        "tipo_calculo = widgets.Dropdown(\n",
        "    options=[\n",
        "        ('Desde Monto Neto', 'neto'),\n",
        "        ('Desde Monto Bruto', 'bruto'),\n",
        "        ('Desde Monto IVA', 'iva')\n",
        "    ],\n",
        "    value='neto',\n",
        "    description='Cálculo:',\n",
        "    style={'description_width': 'initial'}\n",
        ")\n",
        "\n",
        "monto_input = widgets.FloatText(\n",
        "    value=0.0,\n",
        "    description='Monto:',\n",
        "    style={'description_width': 'initial'},\n",
        "    disabled=False\n",
        ")\n",
        "\n",
        "boton_calcular = widgets.Button(\n",
        "    description='Calcular IVA',\n",
        "    button_style='success'\n",
        ")\n",
        "\n",
        "salida = widgets.Output()\n",
        "\n",
        "# Función principal\n",
        "def al_hacer_click(b):\n",
        "    with salida:\n",
        "        clear_output()\n",
        "        tipo = tipo_calculo.value\n",
        "        monto = monto_input.value\n",
        "\n",
        "        try:\n",
        "            if tipo == 'neto':\n",
        "                iva, total = calcular_desde_neto(monto)\n",
        "                print(f\"Monto Neto: ${monto:,.2f}\")\n",
        "                print(f\"IVA (19%): ${iva:,.2f}\")\n",
        "                print(f\"Monto Total (Bruto): ${total:,.2f}\")\n",
        "            elif tipo == 'bruto':\n",
        "                neto, iva = calcular_desde_bruto(monto)\n",
        "                print(f\"Monto Bruto: ${monto:,.2f}\")\n",
        "                print(f\"Monto Neto: ${neto:,.2f}\")\n",
        "                print(f\"IVA (19%): ${iva:,.2f}\")\n",
        "            elif tipo == 'iva':\n",
        "                neto, total = calcular_desde_iva(monto)\n",
        "                print(f\"Monto IVA: ${monto:,.2f}\")\n",
        "                print(f\"Monto Neto: ${neto:,.2f}\")\n",
        "                print(f\"Monto Total (Bruto): ${total:,.2f}\")\n",
        "        except Exception as e:\n",
        "            print(f\"Error: {str(e)}\")\n",
        "\n",
        "# Asociar botón a función\n",
        "boton_calcular.on_click(al_hacer_click)\n",
        "\n",
        "# Mostrar interfaz\n",
        "display(tipo_calculo, monto_input, boton_calcular, salida)\n"
      ],
      "metadata": {
        "colab": {
          "base_uri": "https://localhost:8080/",
          "height": 111,
          "referenced_widgets": [
            "7208a65f50b5491887250d204f2c1a6b",
            "946c193e64bf49ed8300c939fdbb8ba2",
            "625c6d6612594676b91eff1a39e1b0d8",
            "dbbe3eb4ec3846d0a4799cb9503b1397",
            "4bd0c9d7e69747e88591fa8b10d1a794",
            "6a9b739d33ec40408c79967053c5eb02",
            "2e582676ad4a4ab49f981226188301eb",
            "eb733a385fe340e293884ade90b74cc8",
            "9beef0823d714b608dfdee47376cd818",
            "4081eadd220d4d4d96eab0940be1c155",
            "5443eb3dc699433093d0b1404830aeab"
          ]
        },
        "cellView": "form",
        "id": "sVME8wm6RLn1",
        "outputId": "be871a70-668c-43ea-98ae-cbba59f77e29"
      },
      "execution_count": null,
      "outputs": [
        {
          "output_type": "display_data",
          "data": {
            "text/plain": [
              "Dropdown(description='Cálculo:', options=(('Desde Monto Neto', 'neto'), ('Desde Monto Bruto', 'bruto'), ('Desd…"
            ],
            "application/vnd.jupyter.widget-view+json": {
              "version_major": 2,
              "version_minor": 0,
              "model_id": "7208a65f50b5491887250d204f2c1a6b"
            }
          },
          "metadata": {}
        },
        {
          "output_type": "display_data",
          "data": {
            "text/plain": [
              "FloatText(value=0.0, description='Monto:', style=DescriptionStyle(description_width='initial'))"
            ],
            "application/vnd.jupyter.widget-view+json": {
              "version_major": 2,
              "version_minor": 0,
              "model_id": "dbbe3eb4ec3846d0a4799cb9503b1397"
            }
          },
          "metadata": {}
        },
        {
          "output_type": "display_data",
          "data": {
            "text/plain": [
              "Button(button_style='success', description='Calcular IVA', style=ButtonStyle())"
            ],
            "application/vnd.jupyter.widget-view+json": {
              "version_major": 2,
              "version_minor": 0,
              "model_id": "2e582676ad4a4ab49f981226188301eb"
            }
          },
          "metadata": {}
        },
        {
          "output_type": "display_data",
          "data": {
            "text/plain": [
              "Output()"
            ],
            "application/vnd.jupyter.widget-view+json": {
              "version_major": 2,
              "version_minor": 0,
              "model_id": "4081eadd220d4d4d96eab0940be1c155"
            }
          },
          "metadata": {}
        }
      ]
    },
    {
      "cell_type": "markdown",
      "source": [],
      "metadata": {
        "id": "LH00I7HZSe1a"
      }
    }
  ]
}